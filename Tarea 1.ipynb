{
 "cells": [
  {
   "cell_type": "markdown",
   "id": "ebeb48d3-c2d2-4708-b7fa-6aa0b240922a",
   "metadata": {},
   "source": [
    "Pregunta1: Qué día hubo la mayor cantidad de personas en cuarentena en cada región?"
   ]
  },
  {
   "cell_type": "markdown",
   "id": "86e7965e-f32b-43ef-be7c-9a644d43ef53",
   "metadata": {},
   "source": [
    "Pregunta2: Qué día hubo la mayor cantidad de personas en cuarentena en el país?"
   ]
  },
  {
   "cell_type": "raw",
   "id": "f7a0bcea-df25-456a-a201-3af91e25ce0d",
   "metadata": {},
   "source": [
    "#Importar las librerias necesarias"
   ]
  },
  {
   "cell_type": "code",
   "execution_count": 116,
   "id": "0dd540f1-5e80-4fc6-a9be-2c83d23774b4",
   "metadata": {},
   "outputs": [],
   "source": [
    "import pandas as pd\n",
    "import numpy as np \n",
    "import matplotlib as npl \n",
    "import matplotlib.pyplot as plt\n",
    "import seaborn as sns\n",
    "%matplotlib inline \n",
    "plt.style.use('default')"
   ]
  },
  {
   "cell_type": "raw",
   "id": "07de05c2-7d30-448f-b425-994fcee77eb5",
   "metadata": {},
   "source": [
    "#Data Frame de datos cuarentena, sacados del producto 29 de github mmin ciencia"
   ]
  },
  {
   "cell_type": "code",
   "execution_count": 117,
   "id": "66717525-6e74-41c4-806d-5ae8c97fcfda",
   "metadata": {},
   "outputs": [],
   "source": [
    "df = pd.read_csv('https://github.com/MinCiencia/Datos-COVID19/blob/master/output/producto29/Cuarentenas-Totales.csv?raw=true', sep=',')"
   ]
  },
  {
   "cell_type": "raw",
   "id": "c4bbe251-1ef5-4054-b11f-88b0844ffdf8",
   "metadata": {},
   "source": [
    "#Data Frame 2 de datos de población por comuna, sacados del producto 1 de github min ciencia"
   ]
  },
  {
   "cell_type": "code",
   "execution_count": 118,
   "id": "20a92575-66d4-4d78-9461-cccf23047429",
   "metadata": {},
   "outputs": [],
   "source": [
    "df2 = pd.read_csv('https://github.com/MinCiencia/Datos-COVID19/blob/master/output/producto1/Covid-19.csv?raw=true', sep=',')"
   ]
  },
  {
   "cell_type": "raw",
   "id": "e61ec560-e991-462e-a536-90451ff19c3f",
   "metadata": {},
   "source": [
    "#Muestra los datos del data frame"
   ]
  },
  {
   "cell_type": "code",
   "execution_count": 119,
   "id": "2fcf7380-066d-4a61-8295-8e140e13c7db",
   "metadata": {},
   "outputs": [
    {
     "data": {
      "text/html": [
       "<div>\n",
       "<style scoped>\n",
       "    .dataframe tbody tr th:only-of-type {\n",
       "        vertical-align: middle;\n",
       "    }\n",
       "\n",
       "    .dataframe tbody tr th {\n",
       "        vertical-align: top;\n",
       "    }\n",
       "\n",
       "    .dataframe thead th {\n",
       "        text-align: right;\n",
       "    }\n",
       "</style>\n",
       "<table border=\"1\" class=\"dataframe\">\n",
       "  <thead>\n",
       "    <tr style=\"text-align: right;\">\n",
       "      <th></th>\n",
       "      <th>ID</th>\n",
       "      <th>Nombre</th>\n",
       "      <th>Estado</th>\n",
       "      <th>Alcance</th>\n",
       "      <th>Fecha de Inicio</th>\n",
       "      <th>Fecha de Término</th>\n",
       "      <th>Código CUT Comuna</th>\n",
       "      <th>Detalle</th>\n",
       "      <th>Superficie en m2</th>\n",
       "      <th>Perímetro en m</th>\n",
       "      <th>Region</th>\n",
       "      <th>n_REGION</th>\n",
       "    </tr>\n",
       "  </thead>\n",
       "  <tbody>\n",
       "    <tr>\n",
       "      <th>0</th>\n",
       "      <td>1</td>\n",
       "      <td>Arica</td>\n",
       "      <td>Histórica</td>\n",
       "      <td>Área Urbana Completa</td>\n",
       "      <td>2020-04-16 22:00:00</td>\n",
       "      <td>2020-05-15 22:00:00</td>\n",
       "      <td>15101</td>\n",
       "      <td>Corresponde al Radio Urbano de la Ciudad de Ar...</td>\n",
       "      <td>28050418.80</td>\n",
       "      <td>48722.30001</td>\n",
       "      <td>15</td>\n",
       "      <td>R15</td>\n",
       "    </tr>\n",
       "    <tr>\n",
       "      <th>1</th>\n",
       "      <td>2</td>\n",
       "      <td>Santiago Norte</td>\n",
       "      <td>Histórica</td>\n",
       "      <td>Sector Específico</td>\n",
       "      <td>2020-04-13 05:00:00</td>\n",
       "      <td>2020-05-05 22:00:00</td>\n",
       "      <td>13101</td>\n",
       "      <td>Corresponde a la extensión de la cuarentena en...</td>\n",
       "      <td>19939218.57</td>\n",
       "      <td>21599.35134</td>\n",
       "      <td>13</td>\n",
       "      <td>R13</td>\n",
       "    </tr>\n",
       "    <tr>\n",
       "      <th>2</th>\n",
       "      <td>3</td>\n",
       "      <td>Puente Alto Poniente</td>\n",
       "      <td>Histórica</td>\n",
       "      <td>Sector Específico</td>\n",
       "      <td>2020-04-09 22:00:00</td>\n",
       "      <td>2020-05-08 22:00:00</td>\n",
       "      <td>13201</td>\n",
       "      <td>Corresponde al sector delimitado por la Av. Co...</td>\n",
       "      <td>42364268.21</td>\n",
       "      <td>30428.05152</td>\n",
       "      <td>13</td>\n",
       "      <td>R13</td>\n",
       "    </tr>\n",
       "    <tr>\n",
       "      <th>3</th>\n",
       "      <td>4</td>\n",
       "      <td>El Bosque</td>\n",
       "      <td>Histórica</td>\n",
       "      <td>Comuna completa</td>\n",
       "      <td>2020-04-16 22:00:00</td>\n",
       "      <td>2020-09-21 05:00:00</td>\n",
       "      <td>13105</td>\n",
       "      <td>Aplicada a la totalidad de la comuna. Se incor...</td>\n",
       "      <td>20622713.23</td>\n",
       "      <td>18788.87075</td>\n",
       "      <td>13</td>\n",
       "      <td>R13</td>\n",
       "    </tr>\n",
       "    <tr>\n",
       "      <th>4</th>\n",
       "      <td>5</td>\n",
       "      <td>San Bernardo Nororiente</td>\n",
       "      <td>Histórica</td>\n",
       "      <td>Sector Específico</td>\n",
       "      <td>2020-04-16 22:00:00</td>\n",
       "      <td>2020-05-08 22:00:00</td>\n",
       "      <td>13401</td>\n",
       "      <td>Corresponde al sector delimitado por los limit...</td>\n",
       "      <td>16326216.83</td>\n",
       "      <td>24929.14572</td>\n",
       "      <td>13</td>\n",
       "      <td>R13</td>\n",
       "    </tr>\n",
       "  </tbody>\n",
       "</table>\n",
       "</div>"
      ],
      "text/plain": [
       "   ID                   Nombre     Estado               Alcance  \\\n",
       "0   1                    Arica  Histórica  Área Urbana Completa   \n",
       "1   2           Santiago Norte  Histórica     Sector Específico   \n",
       "2   3     Puente Alto Poniente  Histórica     Sector Específico   \n",
       "3   4                El Bosque  Histórica       Comuna completa   \n",
       "4   5  San Bernardo Nororiente  Histórica     Sector Específico   \n",
       "\n",
       "       Fecha de Inicio     Fecha de Término  Código CUT Comuna  \\\n",
       "0  2020-04-16 22:00:00  2020-05-15 22:00:00              15101   \n",
       "1  2020-04-13 05:00:00  2020-05-05 22:00:00              13101   \n",
       "2  2020-04-09 22:00:00  2020-05-08 22:00:00              13201   \n",
       "3  2020-04-16 22:00:00  2020-09-21 05:00:00              13105   \n",
       "4  2020-04-16 22:00:00  2020-05-08 22:00:00              13401   \n",
       "\n",
       "                                             Detalle  Superficie en m2  \\\n",
       "0  Corresponde al Radio Urbano de la Ciudad de Ar...       28050418.80   \n",
       "1  Corresponde a la extensión de la cuarentena en...       19939218.57   \n",
       "2  Corresponde al sector delimitado por la Av. Co...       42364268.21   \n",
       "3  Aplicada a la totalidad de la comuna. Se incor...       20622713.23   \n",
       "4  Corresponde al sector delimitado por los limit...       16326216.83   \n",
       "\n",
       "   Perímetro en m  Region n_REGION  \n",
       "0     48722.30001      15      R15  \n",
       "1     21599.35134      13      R13  \n",
       "2     30428.05152      13      R13  \n",
       "3     18788.87075      13      R13  \n",
       "4     24929.14572      13      R13  "
      ]
     },
     "execution_count": 119,
     "metadata": {},
     "output_type": "execute_result"
    }
   ],
   "source": [
    "df.head()"
   ]
  },
  {
   "cell_type": "raw",
   "id": "fa45c75e-da73-4e12-a654-3669a34dd9be",
   "metadata": {},
   "source": [
    "#Muestra los datos del data frame 2"
   ]
  },
  {
   "cell_type": "code",
   "execution_count": 120,
   "id": "b5e446ff-a53a-4b6e-82cc-1bb851979a45",
   "metadata": {},
   "outputs": [
    {
     "data": {
      "text/html": [
       "<div>\n",
       "<style scoped>\n",
       "    .dataframe tbody tr th:only-of-type {\n",
       "        vertical-align: middle;\n",
       "    }\n",
       "\n",
       "    .dataframe tbody tr th {\n",
       "        vertical-align: top;\n",
       "    }\n",
       "\n",
       "    .dataframe thead th {\n",
       "        text-align: right;\n",
       "    }\n",
       "</style>\n",
       "<table border=\"1\" class=\"dataframe\">\n",
       "  <thead>\n",
       "    <tr style=\"text-align: right;\">\n",
       "      <th></th>\n",
       "      <th>Region</th>\n",
       "      <th>Codigo region</th>\n",
       "      <th>Comuna</th>\n",
       "      <th>Codigo comuna</th>\n",
       "      <th>Poblacion</th>\n",
       "      <th>2020-03-30</th>\n",
       "      <th>2020-04-01</th>\n",
       "      <th>2020-04-03</th>\n",
       "      <th>2020-04-06</th>\n",
       "      <th>2020-04-08</th>\n",
       "      <th>...</th>\n",
       "      <th>2021-09-10</th>\n",
       "      <th>2021-09-13</th>\n",
       "      <th>2021-09-17</th>\n",
       "      <th>2021-09-20</th>\n",
       "      <th>2021-09-24</th>\n",
       "      <th>2021-09-27</th>\n",
       "      <th>2021-10-01</th>\n",
       "      <th>2021-10-04</th>\n",
       "      <th>2021-10-08</th>\n",
       "      <th>Tasa</th>\n",
       "    </tr>\n",
       "  </thead>\n",
       "  <tbody>\n",
       "    <tr>\n",
       "      <th>0</th>\n",
       "      <td>Arica y Parinacota</td>\n",
       "      <td>15</td>\n",
       "      <td>Arica</td>\n",
       "      <td>15101.0</td>\n",
       "      <td>247552.0</td>\n",
       "      <td>6.0</td>\n",
       "      <td>6.0</td>\n",
       "      <td>12.0</td>\n",
       "      <td>41.0</td>\n",
       "      <td>63.0</td>\n",
       "      <td>...</td>\n",
       "      <td>29763.0</td>\n",
       "      <td>29836.0</td>\n",
       "      <td>29929.0</td>\n",
       "      <td>30002.0</td>\n",
       "      <td>30128.0</td>\n",
       "      <td>30239.0</td>\n",
       "      <td>30376.0</td>\n",
       "      <td>30463.0</td>\n",
       "      <td>30536.0</td>\n",
       "      <td>12335.2</td>\n",
       "    </tr>\n",
       "    <tr>\n",
       "      <th>1</th>\n",
       "      <td>Arica y Parinacota</td>\n",
       "      <td>15</td>\n",
       "      <td>Camarones</td>\n",
       "      <td>15102.0</td>\n",
       "      <td>1233.0</td>\n",
       "      <td>0.0</td>\n",
       "      <td>0.0</td>\n",
       "      <td>0.0</td>\n",
       "      <td>0.0</td>\n",
       "      <td>0.0</td>\n",
       "      <td>...</td>\n",
       "      <td>67.0</td>\n",
       "      <td>67.0</td>\n",
       "      <td>70.0</td>\n",
       "      <td>70.0</td>\n",
       "      <td>70.0</td>\n",
       "      <td>70.0</td>\n",
       "      <td>70.0</td>\n",
       "      <td>70.0</td>\n",
       "      <td>70.0</td>\n",
       "      <td>5677.2</td>\n",
       "    </tr>\n",
       "    <tr>\n",
       "      <th>2</th>\n",
       "      <td>Arica y Parinacota</td>\n",
       "      <td>15</td>\n",
       "      <td>General Lagos</td>\n",
       "      <td>15202.0</td>\n",
       "      <td>810.0</td>\n",
       "      <td>0.0</td>\n",
       "      <td>0.0</td>\n",
       "      <td>0.0</td>\n",
       "      <td>0.0</td>\n",
       "      <td>0.0</td>\n",
       "      <td>...</td>\n",
       "      <td>88.0</td>\n",
       "      <td>88.0</td>\n",
       "      <td>88.0</td>\n",
       "      <td>88.0</td>\n",
       "      <td>88.0</td>\n",
       "      <td>88.0</td>\n",
       "      <td>88.0</td>\n",
       "      <td>88.0</td>\n",
       "      <td>88.0</td>\n",
       "      <td>10864.2</td>\n",
       "    </tr>\n",
       "    <tr>\n",
       "      <th>3</th>\n",
       "      <td>Arica y Parinacota</td>\n",
       "      <td>15</td>\n",
       "      <td>Putre</td>\n",
       "      <td>15201.0</td>\n",
       "      <td>2515.0</td>\n",
       "      <td>0.0</td>\n",
       "      <td>0.0</td>\n",
       "      <td>0.0</td>\n",
       "      <td>0.0</td>\n",
       "      <td>0.0</td>\n",
       "      <td>...</td>\n",
       "      <td>205.0</td>\n",
       "      <td>207.0</td>\n",
       "      <td>208.0</td>\n",
       "      <td>207.0</td>\n",
       "      <td>211.0</td>\n",
       "      <td>215.0</td>\n",
       "      <td>213.0</td>\n",
       "      <td>213.0</td>\n",
       "      <td>213.0</td>\n",
       "      <td>8469.2</td>\n",
       "    </tr>\n",
       "    <tr>\n",
       "      <th>4</th>\n",
       "      <td>Arica y Parinacota</td>\n",
       "      <td>15</td>\n",
       "      <td>Desconocido Arica y Parinacota</td>\n",
       "      <td>NaN</td>\n",
       "      <td>NaN</td>\n",
       "      <td>NaN</td>\n",
       "      <td>NaN</td>\n",
       "      <td>NaN</td>\n",
       "      <td>NaN</td>\n",
       "      <td>NaN</td>\n",
       "      <td>...</td>\n",
       "      <td>158.0</td>\n",
       "      <td>163.0</td>\n",
       "      <td>161.0</td>\n",
       "      <td>163.0</td>\n",
       "      <td>165.0</td>\n",
       "      <td>165.0</td>\n",
       "      <td>167.0</td>\n",
       "      <td>170.0</td>\n",
       "      <td>175.0</td>\n",
       "      <td>NaN</td>\n",
       "    </tr>\n",
       "  </tbody>\n",
       "</table>\n",
       "<p>5 rows × 168 columns</p>\n",
       "</div>"
      ],
      "text/plain": [
       "               Region  Codigo region                          Comuna  \\\n",
       "0  Arica y Parinacota             15                           Arica   \n",
       "1  Arica y Parinacota             15                       Camarones   \n",
       "2  Arica y Parinacota             15                   General Lagos   \n",
       "3  Arica y Parinacota             15                           Putre   \n",
       "4  Arica y Parinacota             15  Desconocido Arica y Parinacota   \n",
       "\n",
       "   Codigo comuna  Poblacion  2020-03-30  2020-04-01  2020-04-03  2020-04-06  \\\n",
       "0        15101.0   247552.0         6.0         6.0        12.0        41.0   \n",
       "1        15102.0     1233.0         0.0         0.0         0.0         0.0   \n",
       "2        15202.0      810.0         0.0         0.0         0.0         0.0   \n",
       "3        15201.0     2515.0         0.0         0.0         0.0         0.0   \n",
       "4            NaN        NaN         NaN         NaN         NaN         NaN   \n",
       "\n",
       "   2020-04-08  ...  2021-09-10  2021-09-13  2021-09-17  2021-09-20  \\\n",
       "0        63.0  ...     29763.0     29836.0     29929.0     30002.0   \n",
       "1         0.0  ...        67.0        67.0        70.0        70.0   \n",
       "2         0.0  ...        88.0        88.0        88.0        88.0   \n",
       "3         0.0  ...       205.0       207.0       208.0       207.0   \n",
       "4         NaN  ...       158.0       163.0       161.0       163.0   \n",
       "\n",
       "   2021-09-24  2021-09-27  2021-10-01  2021-10-04  2021-10-08     Tasa  \n",
       "0     30128.0     30239.0     30376.0     30463.0     30536.0  12335.2  \n",
       "1        70.0        70.0        70.0        70.0        70.0   5677.2  \n",
       "2        88.0        88.0        88.0        88.0        88.0  10864.2  \n",
       "3       211.0       215.0       213.0       213.0       213.0   8469.2  \n",
       "4       165.0       165.0       167.0       170.0       175.0      NaN  \n",
       "\n",
       "[5 rows x 168 columns]"
      ]
     },
     "execution_count": 120,
     "metadata": {},
     "output_type": "execute_result"
    }
   ],
   "source": [
    "df2.head()"
   ]
  },
  {
   "cell_type": "raw",
   "id": "ee25f19e-e969-45fa-94d3-68c970d9cd8b",
   "metadata": {},
   "source": [
    "#Elimino las columnas del data que no me sirven"
   ]
  },
  {
   "cell_type": "code",
   "execution_count": 121,
   "id": "46333eb7-704a-41d9-934c-c1b7c72d1091",
   "metadata": {},
   "outputs": [],
   "source": [
    "limpio_df = df.drop(['Superficie en m2', 'Perímetro en m', 'Detalle'], axis = 1)"
   ]
  },
  {
   "cell_type": "raw",
   "id": "e0bf6775-bfde-4ef1-af4d-3000427214db",
   "metadata": {},
   "source": [
    "#Dejo solo las columnas que usare del data 2"
   ]
  },
  {
   "cell_type": "code",
   "execution_count": 122,
   "id": "f73f056d-8b99-4e0f-96b1-6966728237e8",
   "metadata": {},
   "outputs": [],
   "source": [
    "columnas_df2 = df2[['Region','Codigo region','Comuna','Codigo comuna','Poblacion']]"
   ]
  },
  {
   "cell_type": "raw",
   "id": "41c7a41f-111b-4820-a1ab-760582ff62bc",
   "metadata": {},
   "source": [
    "#Elimino los valores nulos del data 2, ya que no me sirven"
   ]
  },
  {
   "cell_type": "code",
   "execution_count": 123,
   "id": "09bec336-8e12-4f7c-b300-406b721a8775",
   "metadata": {},
   "outputs": [],
   "source": [
    "nul_df2= df2.dropna()"
   ]
  },
  {
   "cell_type": "raw",
   "id": "5a27b9d7-528a-4928-900e-e63210cb8713",
   "metadata": {},
   "source": [
    "#Cambio el nombre del la columna codigo columna del data 1 por el mismo nombre del data 2  para mezclar ambos datos"
   ]
  },
  {
   "cell_type": "code",
   "execution_count": 124,
   "id": "70c7c230-7f79-4633-9c11-af1d748a286b",
   "metadata": {},
   "outputs": [],
   "source": [
    "nuevo_nombre = limpio_df.rename(columns={'Código CUT Comuna': 'Codigo comuna'})"
   ]
  },
  {
   "cell_type": "raw",
   "id": "09a8f563-5199-478b-a400-968b74b31afe",
   "metadata": {},
   "source": [
    "#Mezclo el data1 y data2"
   ]
  },
  {
   "cell_type": "code",
   "execution_count": 125,
   "id": "40ffb1a0-0ebf-4729-ab52-0047ce65fee8",
   "metadata": {},
   "outputs": [],
   "source": [
    "mix = nuevo_nombre.merge(nul_df2, on= 'Codigo comuna')"
   ]
  },
  {
   "cell_type": "raw",
   "id": "145a090c-ee6d-4609-aeb9-dc7857b0d50f",
   "metadata": {},
   "source": [
    "#Elimino las columnas que no usare"
   ]
  },
  {
   "cell_type": "code",
   "execution_count": 126,
   "id": "a7e43488-0828-49a3-a1ea-0c09cf0f395e",
   "metadata": {},
   "outputs": [],
   "source": [
    "limpio_mix = mix.drop(['ID', 'Nombre', 'Estado', 'Alcance'], axis = 1)"
   ]
  },
  {
   "cell_type": "raw",
   "id": "fa26c7e3-8461-4738-9cac-cc58dcd8233c",
   "metadata": {},
   "source": [
    "#Cambio el formato de las fechas de inicio y termino"
   ]
  },
  {
   "cell_type": "code",
   "execution_count": 127,
   "id": "090250d9-df1a-4226-b88b-528c3ab331a2",
   "metadata": {},
   "outputs": [],
   "source": [
    "limpio_mix[\"Fecha de Inicio\"]=limpio_mix[\"Fecha de Inicio\"].apply(lambda x:x.split(\" \")[0])\n",
    "limpio_mix[\"Fecha de Término\"]=limpio_mix[\"Fecha de Término\"].apply(lambda x: x.split(\" \")[0])"
   ]
  },
  {
   "cell_type": "code",
   "execution_count": 128,
   "id": "ccd2bca0-6a3e-4332-896b-9e11738a5b00",
   "metadata": {},
   "outputs": [],
   "source": [
    "limpio_mix[\"Fecha de Inicio\"]=pd.to_datetime(limpio_mix[\"Fecha de Inicio\"])\n",
    "limpio_mix[\"Fecha de Término\"]=pd.to_datetime(limpio_mix[\"Fecha de Término\"])"
   ]
  },
  {
   "cell_type": "raw",
   "id": "812a4081-3485-4d22-be68-615d048d65d8",
   "metadata": {},
   "source": [
    "#Agregue una columna que contenga los datos de \"Total días en cuarentena\" haciendo la resta entre fecha termino e inicio"
   ]
  },
  {
   "cell_type": "code",
   "execution_count": 129,
   "id": "63f446d9-5006-42be-b8e1-025254f09334",
   "metadata": {},
   "outputs": [],
   "source": [
    "limpio_mix['Total días en cuarentena'] = limpio_mix['Fecha de Término'].sub(limpio_mix['Fecha de Inicio'], axis=0)"
   ]
  },
  {
   "cell_type": "raw",
   "id": "79745865-8761-4866-9a87-6797207d2335",
   "metadata": {},
   "source": [
    "#Creo dos listas con las comunas que están en cuarentena"
   ]
  },
  {
   "cell_type": "code",
   "execution_count": 130,
   "id": "c0f08411-1a85-44e1-b94e-ddec1e6a2d7b",
   "metadata": {},
   "outputs": [],
   "source": [
    "limpio_mix['Total días en cuarentena'] = limpio_mix['Total días en cuarentena'].dt.days.astype('int16')"
   ]
  },
  {
   "cell_type": "code",
   "execution_count": 131,
   "id": "3a4e69a9-7182-40ba-be6f-276f33028fc3",
   "metadata": {},
   "outputs": [],
   "source": [
    "comunas = []\n",
    "for i in limpio_mix['Comuna']:\n",
    "    comunas.append(i)\n",
    "\n",
    "cuarentena = []\n",
    "for i in limpio_mix['Total días en cuarentena']:\n",
    "    cuarentena.append(i)\n"
   ]
  },
  {
   "cell_type": "raw",
   "id": "9a8db7c8-bc82-4214-b585-71643f706ba6",
   "metadata": {},
   "source": [
    "#Repito los datos con un codigo sacado de la página https://www.it-swarm-es.com"
   ]
  },
  {
   "cell_type": "code",
   "execution_count": 132,
   "id": "a3559142-5622-4cb0-8fb8-80e9392411aa",
   "metadata": {},
   "outputs": [],
   "source": [
    "dict_lista = dict(zip(comunas, cuarentena))\n",
    "reps = [dict_lista[val] if val in dict_lista else 1 for val in limpio_mix['Comuna']]"
   ]
  },
  {
   "cell_type": "raw",
   "id": "aef9f8e2-c330-435a-9ec8-82168c4ab2a2",
   "metadata": {},
   "source": [
    "#Creo un nuevo data con los datos de la cantidad de días de cuarentena y población"
   ]
  },
  {
   "cell_type": "code",
   "execution_count": 133,
   "id": "54fe8f59-85a5-425e-99a1-4deffbfe1b6f",
   "metadata": {},
   "outputs": [],
   "source": [
    "datos_cuarentenas = limpio_mix.loc[np.repeat(limpio_mix.index.values, reps)]"
   ]
  },
  {
   "cell_type": "raw",
   "id": "770ee0b6-86ce-4694-bfdf-f59e071c2746",
   "metadata": {},
   "source": [
    "#datos_cuarentenas lo separo por regiones"
   ]
  },
  {
   "cell_type": "code",
   "execution_count": 134,
   "id": "07298c6b-9861-4e04-98be-0105caf95626",
   "metadata": {},
   "outputs": [],
   "source": [
    "region1 = datos_cuarentenas.where(datos_cuarentenas['Codigo region']==1)\n",
    "region2 = datos_cuarentenas.where(datos_cuarentenas['Codigo region']==2)\n",
    "region3 = datos_cuarentenas.where(datos_cuarentenas['Codigo region']==3)\n",
    "region4 = datos_cuarentenas.where(datos_cuarentenas['Codigo region']==4)\n",
    "region5 = datos_cuarentenas.where(datos_cuarentenas['Codigo region']==5)\n",
    "region6 = datos_cuarentenas.where(datos_cuarentenas['Codigo region']==6)\n",
    "region7 = datos_cuarentenas.where(datos_cuarentenas['Codigo region']==7)\n",
    "region8 = datos_cuarentenas.where(datos_cuarentenas['Codigo region']==8)\n",
    "region9 = datos_cuarentenas.where(datos_cuarentenas['Codigo region']==9)\n",
    "region10 = datos_cuarentenas.where(datos_cuarentenas['Codigo region']==10)\n",
    "region11 = datos_cuarentenas.where(datos_cuarentenas['Codigo region']==11)\n",
    "region12 = datos_cuarentenas.where(datos_cuarentenas['Codigo region']==12)\n",
    "region13 = datos_cuarentenas.where(datos_cuarentenas['Codigo region']==13)\n",
    "region14 = datos_cuarentenas.where(datos_cuarentenas['Codigo region']==14)\n",
    "region15 = datos_cuarentenas.where(datos_cuarentenas['Codigo region']==15)\n",
    "region16 = datos_cuarentenas.where(datos_cuarentenas['Codigo region']==16)"
   ]
  },
  {
   "cell_type": "raw",
   "id": "f5d6b75f-d87d-4b06-879a-0ad470e2af7b",
   "metadata": {},
   "source": [
    "#Elimino los datos nulos"
   ]
  },
  {
   "cell_type": "code",
   "execution_count": 135,
   "id": "79eafe4f-6a94-457e-a438-f431d3188c61",
   "metadata": {},
   "outputs": [],
   "source": [
    "region1 = region1.dropna()\n",
    "region2 = region2.dropna()\n",
    "region3 = region3.dropna()\n",
    "region4 = region4.dropna()\n",
    "region5 = region5.dropna()\n",
    "region6 = region6.dropna()\n",
    "region7 = region7.dropna()\n",
    "region8 = region8.dropna()\n",
    "region9 = region9.dropna()\n",
    "region10 = region10.dropna()\n",
    "region11 = region11.dropna()\n",
    "region12 = region12.dropna()\n",
    "region13 = region13.dropna()\n",
    "region14 = region14.dropna()\n",
    "region15 = region15.dropna()\n",
    "region16 = region15.dropna()"
   ]
  },
  {
   "cell_type": "code",
   "execution_count": null,
   "id": "988d12c5-ee3c-42b4-8eb5-cb5df480cdf3",
   "metadata": {},
   "outputs": [],
   "source": []
  }
 ],
 "metadata": {
  "kernelspec": {
   "display_name": "Python 3",
   "language": "python",
   "name": "python3"
  },
  "language_info": {
   "codemirror_mode": {
    "name": "ipython",
    "version": 3
   },
   "file_extension": ".py",
   "mimetype": "text/x-python",
   "name": "python",
   "nbconvert_exporter": "python",
   "pygments_lexer": "ipython3",
   "version": "3.8.8"
  }
 },
 "nbformat": 4,
 "nbformat_minor": 5
}
